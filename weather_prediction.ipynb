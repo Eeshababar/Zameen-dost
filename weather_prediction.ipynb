{
  "nbformat": 4,
  "nbformat_minor": 0,
  "metadata": {
    "colab": {
      "provenance": []
    },
    "kernelspec": {
      "name": "python3",
      "display_name": "Python 3"
    },
    "language_info": {
      "name": "python"
    }
  },
  "cells": [
    {
      "cell_type": "code",
      "execution_count": null,
      "metadata": {
        "id": "fJCewHuTuk-g"
      },
      "outputs": [],
      "source": [
        "import gradio as gr\n",
        "import requests\n",
        "from datetime import datetime, timedelta\n",
        "\n",
        "# 🔑 OpenWeatherMap API Key\n",
        "API_KEY = \"64be775708b8774817ae621feb910017\"\n",
        "API_URL = \"https://api.openweathermap.org/data/2.5/forecast\"\n",
        "\n",
        "# 📦 Urdu labels mapping (basic)\n",
        "def translate_weather(description):\n",
        "    translation_map = {\n",
        "        \"clear sky\": \"صاف آسمان\",\n",
        "        \"few clouds\": \"ہلکے بادل\",\n",
        "        \"scattered clouds\": \"چھٹپٹ بادل\",\n",
        "        \"broken clouds\": \"ٹوٹے ہوئے بادل\",\n",
        "        \"shower rain\": \"بوندا باندی\",\n",
        "        \"rain\": \"بارش\",\n",
        "        \"thunderstorm\": \"آندھی اور گرج چمک\",\n",
        "        \"snow\": \"برفباری\",\n",
        "        \"mist\": \"دھند\",\n",
        "        \"light rain\": \"ہلکی بارش\",\n",
        "        \"moderate rain\": \"درمیانی بارش\",\n",
        "        \"overcast clouds\": \"مکمل بادل\"\n",
        "    }\n",
        "    return translation_map.get(description.lower(), description)\n",
        "\n",
        "# 🔍 Get tomorrow's forecast in Urdu\n",
        "def get_tomorrow_weather(city):\n",
        "    try:\n",
        "        params = {\n",
        "            \"q\": city,\n",
        "            \"appid\": API_KEY,\n",
        "            \"units\": \"metric\",\n",
        "            \"lang\": \"en\"  # English used for raw data\n",
        "        }\n",
        "        response = requests.get(API_URL, params=params)\n",
        "        data = response.json()\n",
        "\n",
        "        if data.get(\"cod\") != \"200\":\n",
        "            return \"❌ شہر کا نام درست نہیں یا موسم کی معلومات دستیاب نہیں\"\n",
        "\n",
        "        tomorrow = (datetime.utcnow() + timedelta(days=1)).date()\n",
        "        forecast = f\"📅 کل ({tomorrow}) کے موسم کی پیشگوئی:\\n\\n\"\n",
        "\n",
        "        for entry in data[\"list\"]:\n",
        "            forecast_time = datetime.utcfromtimestamp(entry[\"dt\"])\n",
        "            if forecast_time.date() == tomorrow:\n",
        "                time_str = forecast_time.strftime(\"%I:%M %p\")\n",
        "                desc_en = entry[\"weather\"][0][\"description\"]\n",
        "                desc_ur = translate_weather(desc_en)\n",
        "                temp = entry[\"main\"][\"temp\"]\n",
        "                feels = entry[\"main\"][\"feels_like\"]\n",
        "\n",
        "                forecast += f\"🕒 {time_str} - {desc_ur}\\n🌡️ درجہ حرارت: {temp}°C، محسوس ہوتا ہے: {feels}°C\\n\\n\"\n",
        "\n",
        "        return forecast if \"🕒\" in forecast else \"❌ کل کے لیے کوئی پیشگوئی دستیاب نہیں\"\n",
        "\n",
        "    except Exception as e:\n",
        "        return f\"❌ خرابی: {str(e)}\"\n",
        "\n",
        "# 🌐 Gradio Interface\n",
        "gr.Interface(\n",
        "    fn=get_tomorrow_weather,\n",
        "    inputs=gr.Textbox(label=\"🏙️ شہر کا نام درج کریں\"),\n",
        "    outputs=gr.Textbox(label=\"🌤️ کل کے موسم کی پیشگوئی\"),\n",
        "    title=\"🌦️ موسم کی پیشگوئی (اردو)\",\n",
        "    description=\"شہر کا نام درج کریں اور کل کے موسم کی تفصیلات دیکھیں۔\"\n",
        ").launch(share=True)\n"
      ]
    }
  ]
}